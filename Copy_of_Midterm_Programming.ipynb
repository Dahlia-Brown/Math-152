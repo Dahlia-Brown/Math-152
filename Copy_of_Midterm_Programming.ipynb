{
  "nbformat": 4,
  "nbformat_minor": 0,
  "metadata": {
    "colab": {
      "name": "Copy of Midterm_Programming.ipynb",
      "provenance": [],
      "collapsed_sections": [],
      "include_colab_link": true
    },
    "kernelspec": {
      "name": "python3",
      "display_name": "Python 3"
    },
    "language_info": {
      "name": "python"
    }
  },
  "cells": [
    {
      "cell_type": "markdown",
      "metadata": {
        "id": "view-in-github",
        "colab_type": "text"
      },
      "source": [
        "<a href=\"https://colab.research.google.com/github/Dahlia-Brown/Math-152/blob/main/Copy_of_Midterm_Programming.ipynb\" target=\"_parent\"><img src=\"https://colab.research.google.com/assets/colab-badge.svg\" alt=\"Open In Colab\"/></a>"
      ]
    },
    {
      "cell_type": "markdown",
      "source": [
        "#Midterm Exam - Math 152 - Programming part\n",
        "\n",
        "Upload an .ipynb file to canvas"
      ],
      "metadata": {
        "id": "DksSzu8V2Oco"
      }
    },
    {
      "cell_type": "markdown",
      "source": [
        "# Four divisors\n",
        "Create a function ``` four_divisors(n) ``` that ```returns``` the ```list``` of numbers less than $n$ wich divisors are only $1, p, q, n$ with $p\\neq q$ primes. For example:\n",
        "\n",
        "```four_divisors(25) = [6, 10, 14, 15, 21, 22]```\n",
        "\n",
        "Hint: look at the multiplication of different primes, you can use ```where(L)``` and ```isprime_list(n)```\n",
        "\n",
        "> Input : positive integer\n",
        "\n",
        "> Output: list\n",
        "\n"
      ],
      "metadata": {
        "id": "ezSUQqgO9qX-"
      }
    },
    {
      "cell_type": "code",
      "source": [
        "from math import sqrt\n",
        "def isprime_list(n):\n",
        "    ''' \n",
        "    Return a list of length n+1\n",
        "    with Trues at prime indices and Falses at composite indices.\n",
        "    '''\n",
        "    flags = [True] * (n+1)  # A list [True, True, True,...] to start.\n",
        "    flags[0] = False  # Zero is not prime.  So its flag is set to False.\n",
        "    flags[1] = False  # One is not prime.  So its flag is set to False.\n",
        "    flags[4::2] = [False] * ((n-2)//2)\n",
        "    p = 3\n",
        "    while p <= sqrt(n):  # We only need to sieve by p is p <= sqrt(n).\n",
        "        if flags[p]:  # We sieve the multiples of p if flags[p]=True.\n",
        "            flags[p*p::2*p] = [False] * ((n-p*p)//(2*p)+1) # Sieves out multiples of p, starting at p*p.\n",
        "        p = p + 2 # Try the next value of p.\n",
        "        \n",
        "    return flags\n",
        "    \n",
        "def where(L):\n",
        "    '''\n",
        "    Take a list of booleans as input and\n",
        "    outputs the list of indices where True occurs.\n",
        "    '''\n",
        "    return [n for n in range(len(L)) if L[n]]"
      ],
      "metadata": {
        "id": "Qxs3rYzoS7UM"
      },
      "execution_count": 11,
      "outputs": []
    },
    {
      "cell_type": "code",
      "source": [
        "def four_divisors(n):\n",
        "  #for i in range(len(n) - 1):\n",
        "  primes = isprime_list(n)\n",
        "  where(primes)\n",
        "  print(primes)\n",
        "  print(where(primes))\n",
        "  # to get n, write a for loop that doesnt exceed 25 iterations\n",
        "  # check each term in the original list for divisors\n",
        "  # make a new list of where(primes) with 1 and n appended\n",
        "  # if divisors are in the new where(primes) list, and if p != q, then those get added to a new divisors list\n",
        "  # return the divisors list"
      ],
      "metadata": {
        "id": "fEmoCVqTVY6f"
      },
      "execution_count": 14,
      "outputs": []
    },
    {
      "cell_type": "code",
      "source": [
        "four_divisors(25)"
      ],
      "metadata": {
        "colab": {
          "base_uri": "https://localhost:8080/"
        },
        "id": "SY1O4xP52ube",
        "outputId": "c409a71c-0eb0-4002-8967-503a5d5ec77a"
      },
      "execution_count": 15,
      "outputs": [
        {
          "output_type": "stream",
          "name": "stdout",
          "text": [
            "[False, False, True, True, False, True, False, True, False, False, False, True, False, True, False, False, False, True, False, True, False, False, False, True, False, False]\n",
            "[2, 3, 5, 7, 11, 13, 17, 19, 23]\n"
          ]
        }
      ]
    },
    {
      "cell_type": "markdown",
      "source": [
        "# Taylor Series \n",
        "Using Taylor series, define a function ```exp_plus_atan(x)``` that approximates \n",
        "\n",
        "$$e^{x} + \\arctan(x) $$\n",
        "\n",
        "for $x\\in (-1,1)$ with a precision of 5 digits.\n",
        "\n",
        "Remember that \n",
        "\n",
        "$$\\arctan(x) = x - \\frac{x^3}{3} + \\frac{x^5}{5} - \\cdots$$\n",
        "\n",
        "> Input : float in (-1,1)\n",
        "\n",
        "> Output: float\n"
      ],
      "metadata": {
        "id": "uVvEE0YKARyU"
      }
    },
    {
      "cell_type": "code",
      "source": [
        "#import math\n",
        "def exp_plus_atan(x):\n",
        "  e = 2.71828\n",
        "  arctan = 0\n",
        "  approx = 0\n",
        "  for n in range(x):\n",
        "    arctan += (-1) ** n / (2*n +1)\n",
        "  approx = e ** x + arctan\n",
        "  return approx"
      ],
      "metadata": {
        "id": "J71lp-NcUcl_"
      },
      "execution_count": 7,
      "outputs": []
    },
    {
      "cell_type": "code",
      "source": [
        "print(exp_plus_atan(0.33))"
      ],
      "metadata": {
        "colab": {
          "base_uri": "https://localhost:8080/",
          "height": 286
        },
        "id": "uymR_z5hzZ6y",
        "outputId": "663d56af-f955-42ac-be5c-7b547774c67e"
      },
      "execution_count": 8,
      "outputs": [
        {
          "output_type": "error",
          "ename": "TypeError",
          "evalue": "ignored",
          "traceback": [
            "\u001b[0;31m---------------------------------------------------------------------------\u001b[0m",
            "\u001b[0;31mTypeError\u001b[0m                                 Traceback (most recent call last)",
            "\u001b[0;32m<ipython-input-8-26bca8598e2b>\u001b[0m in \u001b[0;36m<module>\u001b[0;34m()\u001b[0m\n\u001b[0;32m----> 1\u001b[0;31m \u001b[0mprint\u001b[0m\u001b[0;34m(\u001b[0m\u001b[0mexp_plus_atan\u001b[0m\u001b[0;34m(\u001b[0m\u001b[0;36m0.33\u001b[0m\u001b[0;34m)\u001b[0m\u001b[0;34m)\u001b[0m\u001b[0;34m\u001b[0m\u001b[0;34m\u001b[0m\u001b[0m\n\u001b[0m",
            "\u001b[0;32m<ipython-input-7-fa066fd4cb4c>\u001b[0m in \u001b[0;36mexp_plus_atan\u001b[0;34m(x)\u001b[0m\n\u001b[1;32m      4\u001b[0m   \u001b[0marctan\u001b[0m \u001b[0;34m=\u001b[0m \u001b[0;36m0\u001b[0m\u001b[0;34m\u001b[0m\u001b[0;34m\u001b[0m\u001b[0m\n\u001b[1;32m      5\u001b[0m   \u001b[0mapprox\u001b[0m \u001b[0;34m=\u001b[0m \u001b[0;36m0\u001b[0m\u001b[0;34m\u001b[0m\u001b[0;34m\u001b[0m\u001b[0m\n\u001b[0;32m----> 6\u001b[0;31m   \u001b[0;32mfor\u001b[0m \u001b[0mn\u001b[0m \u001b[0;32min\u001b[0m \u001b[0mrange\u001b[0m\u001b[0;34m(\u001b[0m\u001b[0mx\u001b[0m\u001b[0;34m)\u001b[0m\u001b[0;34m:\u001b[0m\u001b[0;34m\u001b[0m\u001b[0;34m\u001b[0m\u001b[0m\n\u001b[0m\u001b[1;32m      7\u001b[0m     \u001b[0marctan\u001b[0m \u001b[0;34m+=\u001b[0m \u001b[0;34m(\u001b[0m\u001b[0;34m-\u001b[0m\u001b[0;36m1\u001b[0m\u001b[0;34m)\u001b[0m \u001b[0;34m**\u001b[0m \u001b[0mn\u001b[0m \u001b[0;34m/\u001b[0m \u001b[0;34m(\u001b[0m\u001b[0;36m2\u001b[0m\u001b[0;34m*\u001b[0m\u001b[0mn\u001b[0m \u001b[0;34m+\u001b[0m\u001b[0;36m1\u001b[0m\u001b[0;34m)\u001b[0m\u001b[0;34m\u001b[0m\u001b[0;34m\u001b[0m\u001b[0m\n\u001b[1;32m      8\u001b[0m   \u001b[0mapprox\u001b[0m \u001b[0;34m=\u001b[0m \u001b[0me\u001b[0m \u001b[0;34m**\u001b[0m \u001b[0mx\u001b[0m \u001b[0;34m+\u001b[0m \u001b[0marctan\u001b[0m\u001b[0;34m\u001b[0m\u001b[0;34m\u001b[0m\u001b[0m\n",
            "\u001b[0;31mTypeError\u001b[0m: 'float' object cannot be interpreted as an integer"
          ]
        }
      ]
    }
  ]
}