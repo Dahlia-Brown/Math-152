{
  "nbformat": 4,
  "nbformat_minor": 0,
  "metadata": {
    "colab": {
      "name": "Exploration 1.ipynb",
      "provenance": [],
      "collapsed_sections": [],
      "include_colab_link": true
    },
    "kernelspec": {
      "name": "python3",
      "display_name": "Python 3"
    },
    "language_info": {
      "name": "python"
    }
  },
  "cells": [
    {
      "cell_type": "markdown",
      "metadata": {
        "id": "view-in-github",
        "colab_type": "text"
      },
      "source": [
        "<a href=\"https://colab.research.google.com/github/Dahlia-Brown/Math-152/blob/main/Exploration_1.ipynb\" target=\"_parent\"><img src=\"https://colab.research.google.com/assets/colab-badge.svg\" alt=\"Open In Colab\"/></a>"
      ]
    },
    {
      "cell_type": "markdown",
      "source": [
        "# The Collatz Conjecture"
      ],
      "metadata": {
        "id": "6xeG0tYFj_Hb"
      }
    },
    {
      "cell_type": "markdown",
      "source": [
        "## Introduction - A Brief History\n",
        "The Collatz conjecture, an idea brought up in 1937 by German mathematician Lothar Collatz, is said to be a problem that current day mathematics is not yet ready to solve. Mathematicians throughout history have lamented over spending months of research on it only to arrive at nothing. It was even joked to be a conspiracy meant to slow down mathematical research in the U.S. In the simplest terms, the conjecture looks at a sequence of integers where the next integer is determined from the previous term following two rules\n",
        "\n",
        "1.   If the integer is even, divide by 2\n",
        "2.   If the integer is odd, multiply by 3 and add 1\n",
        "\n",
        "It is conjectured that for any positive integer first inputed, the sequence will eventually arrive to the value 1 and from there be stuck in a constant loop (going: 1, 4, 2, 1, 4, ...). The only ways to deviate from this loop would be to either find another loop that forever repeats or find an integer that increases forever. To this day, no sequence of those types has been found.\n",
        "\n",
        "Click [here](https://d2r55xnwy6nx47.cloudfront.net/uploads/2019/12/CollatzGraph_1300Lede.mp4) to see a visual on how this beautiful menace of a conjecture behaves.\n",
        "\n",
        "In this project we will explore these rules as well as additional properties of the Collatz Conjecture. We will see what happens when allowing for negative number, how \"changing the rules\" can affect the outputs, and look at the behavior of dropping time. \n"
      ],
      "metadata": {
        "id": "xszQL7vmkELf"
      }
    },
    {
      "cell_type": "markdown",
      "source": [
        "## Conjecture (Collatz)\n",
        "In more formal terms, the Collatz conjecture states that for any $x_0 \\in \\mathbb{N}$, there exists a $n>0$ such that $f^n(x_0)=1$."
      ],
      "metadata": {
        "id": "mKjEmFDqXxAZ"
      }
    },
    {
      "cell_type": "code",
      "source": [
        "from matplotlib import pyplot as plt "
      ],
      "metadata": {
        "id": "paEVIHFvbfEA"
      },
      "execution_count": null,
      "outputs": []
    },
    {
      "cell_type": "code",
      "execution_count": null,
      "metadata": {
        "id": "NhLkerNeO27j",
        "colab": {
          "base_uri": "https://localhost:8080/"
        },
        "outputId": "7d8a1f4d-4072-40c1-eb6d-da30fa02b8d7"
      },
      "outputs": [
        {
          "output_type": "stream",
          "name": "stdout",
          "text": [
            "15,46,23,70,35,106,53,160,80,40,20,10,5,16,8,4,2,"
          ]
        },
        {
          "output_type": "execute_result",
          "data": {
            "text/plain": [
              "1"
            ]
          },
          "metadata": {},
          "execution_count": 2
        }
      ],
      "source": [
        "# Check the conjecture for all positive integers up to a big number (a thousand? a million?)\n",
        "# collatz\n",
        "def collatz(n): #defining colatz function\n",
        "  while abs(n) > 1: #creating a while loop that runs the conjecture, and stops when it reaches n = 1\n",
        "    print(n,end=',') #got from https://www.pythonpool.com/collatz-sequence-python/\n",
        "    if n%2==0: #if n is even, divide by 2\n",
        "      n = n//2\n",
        "    else:  #if n is odd, replace with 3n+1\n",
        "      n = 3*n+1\n",
        "  return n\n",
        "\n",
        "collatz(15)"
      ]
    },
    {
      "cell_type": "code",
      "source": [
        "collatz(-10)\n",
        "#collatz(-10) -20,-10,-5,-14,-7,-10,-5,-14,-7"
      ],
      "metadata": {
        "id": "U8ef2GWUC5dn"
      },
      "execution_count": null,
      "outputs": []
    },
    {
      "cell_type": "code",
      "source": [
        "def conjecture(n): ## creating a function called conjecture with variable n\n",
        "  prev = [] ## creating an empty list to store every step of the sequence\n",
        "  prev.append(n) ## putting original value in list \n",
        "  while abs(n) > 1: ## creating a while loop that runs the conjecture, and stops when it reaches n = 1.\n",
        "    if n % 2 == 0: ## checking if n is even\n",
        "      n = n // 2 ## if n is even, divide n by 2 and rounds up the decimals\n",
        "    else: ## if n is not even, then it must be odd\n",
        "      n = 3*n + 1 ## if n is odd, multiply n by 3 and plus 1\n",
        "    prev.append(n) ## Adding next step to the list\n",
        "  return prev ## Once while loops is done, return sequence as a list"
      ],
      "metadata": {
        "id": "_MaTzutHiGit"
      },
      "execution_count": null,
      "outputs": []
    },
    {
      "cell_type": "code",
      "source": [
        "print(conjecture(10))"
      ],
      "metadata": {
        "colab": {
          "base_uri": "https://localhost:8080/"
        },
        "id": "yheInI6efoEQ",
        "outputId": "c1ee27d1-cd8e-4504-b4de-2aaf8e916d65"
      },
      "execution_count": null,
      "outputs": [
        {
          "output_type": "stream",
          "name": "stdout",
          "text": [
            "[10, 5, 16, 8, 4, 2, 1]\n"
          ]
        }
      ]
    },
    {
      "cell_type": "code",
      "source": [
        "#Numbers up to 1,000,000\n",
        "conjectures = dict() \n",
        "conjecturesChange1 = dict()\n",
        "for i in range(1,1000000):\n",
        "  conjectures[i] = conjecture(i)"
      ],
      "metadata": {
        "id": "emUSuPrh2NJe"
      },
      "execution_count": null,
      "outputs": []
    },
    {
      "cell_type": "markdown",
      "source": [
        "## Dropping Time"
      ],
      "metadata": {
        "id": "0bvY5fzZCuqC"
      }
    },
    {
      "cell_type": "code",
      "source": [
        "def droppingTime(n): ## creating a function called droppingTime with list n, which n is the conjecture sequence\n",
        "  if n[0] <= 1: ## Accounting for the case of 0 and 1 input, because sigma(1) and sigma(0) is undefined\n",
        "    return None ## Returning None as our undefined data type\n",
        "  for i in range(1, len(n)): ## a for loop which starts at index 1 and ends at index n\n",
        "    if n[i] < n[0]: ## if index i is smaller than index 0, then we find dropping point\n",
        "      return i ## Return the index of the conjecture sequence"
      ],
      "metadata": {
        "id": "Nm2XTGLyUaF4"
      },
      "execution_count": null,
      "outputs": []
    },
    {
      "cell_type": "code",
      "source": [
        "dropTimes = [] ## creating a list to store drop times\n",
        "dropTimes.append(None) ## Adding 'None' to the list to account for signma(0), which is undefined\n",
        "dropTimes.append(None) ## Adding 'None' to the list to account for signma(1), which is undefined\n",
        "nMod8 = [] ## creating an empty list that stores n moduel 8\n",
        "nMod8.append(None) ## Adding 2 None's because we want to compare the same index to dropTimes list\n",
        "nMod8.append(None)\n",
        "nMod16 = [] ## creating an empty list that stores n moduel 16\n",
        "nMod16.append(None) ## Adding 2 None's because we want to compare the same index to dropTimes list\n",
        "nMod16.append(None)\n",
        "for i in range(2,1000): ## creating a for loop which ranges from 1 to 1000 \n",
        "  dropTimes.append(droppingTime(conjectures[i])) ##Adding the returned drop times index to the empty list we created above\n",
        "  nMod8.append(i % 8) \n",
        "  nMod16.append(i % 16)"
      ],
      "metadata": {
        "id": "O1y5vXgCCw4v"
      },
      "execution_count": null,
      "outputs": []
    },
    {
      "cell_type": "code",
      "source": [
        "print(dropTimes[17]) ## Checking dropTimes [17] value"
      ],
      "metadata": {
        "id": "-CyCDdO_H10v",
        "colab": {
          "base_uri": "https://localhost:8080/"
        },
        "outputId": "1e122265-3ee2-4545-a48f-8bfb7939b39b"
      },
      "execution_count": null,
      "outputs": [
        {
          "output_type": "stream",
          "name": "stdout",
          "text": [
            "3\n"
          ]
        }
      ]
    },
    {
      "cell_type": "code",
      "source": [
        "print(dropTimes) ##printing drop times index\n",
        "print(nMod8)\n",
        "print(nMod16)\n",
        "## We see there is repeating drop times patterns where it follows: 1,3,1,a, 1,3,1,b, 1,3,1,c, 1,3,... while a, b, c...are a random number"
      ],
      "metadata": {
        "colab": {
          "base_uri": "https://localhost:8080/"
        },
        "id": "g4-FTqNLGF94",
        "outputId": "4b2c40d2-f037-4025-8255-d060de0ad064"
      },
      "execution_count": null,
      "outputs": [
        {
          "output_type": "stream",
          "name": "stdout",
          "text": [
            "[None, None, 1, 6, 1, 3, 1, 11, 1, 3, 1, 8, 1, 3, 1, 11, 1, 3, 1, 6, 1, 3, 1, 8, 1, 3, 1, 96, 1, 3, 1, 91, 1, 3, 1, 6, 1, 3, 1, 13, 1, 3, 1, 8, 1, 3, 1, 88, 1, 3, 1, 6, 1, 3, 1, 8, 1, 3, 1, 11, 1, 3, 1, 88, 1, 3, 1, 6, 1, 3, 1, 83, 1, 3, 1, 8, 1, 3, 1, 13, 1, 3, 1, 6, 1, 3, 1, 8, 1, 3, 1, 73, 1, 3, 1, 13, 1, 3, 1, 6, 1, 3, 1, 68, 1, 3, 1, 8, 1, 3, 1, 50, 1, 3, 1, 6, 1, 3, 1, 8, 1, 3, 1, 13, 1, 3, 1, 24, 1, 3, 1, 6, 1, 3, 1, 11, 1, 3, 1, 8, 1, 3, 1, 11, 1, 3, 1, 6, 1, 3, 1, 8, 1, 3, 1, 65, 1, 3, 1, 34, 1, 3, 1, 6, 1, 3, 1, 47, 1, 3, 1, 8, 1, 3, 1, 13, 1, 3, 1, 6, 1, 3, 1, 8, 1, 3, 1, 11, 1, 3, 1, 21, 1, 3, 1, 6, 1, 3, 1, 13, 1, 3, 1, 8, 1, 3, 1, 21, 1, 3, 1, 6, 1, 3, 1, 8, 1, 3, 1, 13, 1, 3, 1, 50, 1, 3, 1, 6, 1, 3, 1, 19, 1, 3, 1, 8, 1, 3, 1, 32, 1, 3, 1, 6, 1, 3, 1, 8, 1, 3, 1, 44, 1, 3, 1, 21, 1, 3, 1, 6, 1, 3, 1, 11, 1, 3, 1, 8, 1, 3, 1, 11, 1, 3, 1, 6, 1, 3, 1, 8, 1, 3, 1, 39, 1, 3, 1, 16, 1, 3, 1, 6, 1, 3, 1, 13, 1, 3, 1, 8, 1, 3, 1, 21, 1, 3, 1, 6, 1, 3, 1, 8, 1, 3, 1, 11, 1, 3, 1, 34, 1, 3, 1, 6, 1, 3, 1, 34, 1, 3, 1, 8, 1, 3, 1, 13, 1, 3, 1, 6, 1, 3, 1, 8, 1, 3, 1, 16, 1, 3, 1, 13, 1, 3, 1, 6, 1, 3, 1, 26, 1, 3, 1, 8, 1, 3, 1, 16, 1, 3, 1, 6, 1, 3, 1, 8, 1, 3, 1, 13, 1, 3, 1, 19, 1, 3, 1, 6, 1, 3, 1, 11, 1, 3, 1, 8, 1, 3, 1, 11, 1, 3, 1, 6, 1, 3, 1, 8, 1, 3, 1, 24, 1, 3, 1, 24, 1, 3, 1, 6, 1, 3, 1, 16, 1, 3, 1, 8, 1, 3, 1, 13, 1, 3, 1, 6, 1, 3, 1, 8, 1, 3, 1, 11, 1, 3, 1, 65, 1, 3, 1, 6, 1, 3, 1, 13, 1, 3, 1, 8, 1, 3, 1, 19, 1, 3, 1, 6, 1, 3, 1, 8, 1, 3, 1, 13, 1, 3, 1, 26, 1, 3, 1, 6, 1, 3, 1, 32, 1, 3, 1, 8, 1, 3, 1, 44, 1, 3, 1, 6, 1, 3, 1, 8, 1, 3, 1, 16, 1, 3, 1, 29, 1, 3, 1, 6, 1, 3, 1, 11, 1, 3, 1, 8, 1, 3, 1, 11, 1, 3, 1, 6, 1, 3, 1, 8, 1, 3, 1, 21, 1, 3, 1, 21, 1, 3, 1, 6, 1, 3, 1, 13, 1, 3, 1, 8, 1, 3, 1, 26, 1, 3, 1, 6, 1, 3, 1, 8, 1, 3, 1, 11, 1, 3, 1, 16, 1, 3, 1, 6, 1, 3, 1, 16, 1, 3, 1, 8, 1, 3, 1, 13, 1, 3, 1, 6, 1, 3, 1, 8, 1, 3, 1, 26, 1, 3, 1, 13, 1, 3, 1, 6, 1, 3, 1, 19, 1, 3, 1, 8, 1, 3, 1, 21, 1, 3, 1, 6, 1, 3, 1, 8, 1, 3, 1, 13, 1, 3, 1, 37, 1, 3, 1, 6, 1, 3, 1, 11, 1, 3, 1, 8, 1, 3, 1, 11, 1, 3, 1, 6, 1, 3, 1, 8, 1, 3, 1, 39, 1, 3, 1, 63, 1, 3, 1, 6, 1, 3, 1, 21, 1, 3, 1, 8, 1, 3, 1, 13, 1, 3, 1, 6, 1, 3, 1, 8, 1, 3, 1, 11, 1, 3, 1, 132, 1, 3, 1, 6, 1, 3, 1, 13, 1, 3, 1, 8, 1, 3, 1, 21, 1, 3, 1, 6, 1, 3, 1, 8, 1, 3, 1, 13, 1, 3, 1, 16, 1, 3, 1, 6, 1, 3, 1, 39, 1, 3, 1, 8, 1, 3, 1, 34, 1, 3, 1, 6, 1, 3, 1, 8, 1, 3, 1, 32, 1, 3, 1, 26, 1, 3, 1, 6, 1, 3, 1, 11, 1, 3, 1, 8, 1, 3, 1, 11, 1, 3, 1, 6, 1, 3, 1, 8, 1, 3, 1, 44, 1, 3, 1, 21, 1, 3, 1, 6, 1, 3, 1, 13, 1, 3, 1, 8, 1, 3, 1, 16, 1, 3, 1, 6, 1, 3, 1, 8, 1, 3, 1, 11, 1, 3, 1, 24, 1, 3, 1, 6, 1, 3, 1, 24, 1, 3, 1, 8, 1, 3, 1, 13, 1, 3, 1, 6, 1, 3, 1, 8, 1, 3, 1, 26, 1, 3, 1, 13, 1, 3, 1, 6, 1, 3, 1, 57, 1, 3, 1, 8, 1, 3, 1, 19, 1, 3, 1, 6, 1, 3, 1, 8, 1, 3, 1, 13, 1, 3, 1, 39, 1, 3, 1, 6, 1, 3, 1, 11, 1, 3, 1, 8, 1, 3, 1, 11, 1, 3, 1, 6, 1, 3, 1, 8, 1, 3, 1, 16, 1, 3, 1, 60, 1, 3, 1, 6, 1, 3, 1, 19, 1, 3, 1, 8, 1, 3, 1, 13, 1, 3, 1, 6, 1, 3, 1, 8, 1, 3, 1, 11, 1, 3, 1, 34, 1, 3, 1, 6, 1, 3, 1, 13, 1, 3, 1, 8, 1, 3, 1, 16, 1, 3, 1, 6, 1, 3, 1, 8, 1, 3, 1, 13, 1, 3, 1, 42, 1, 3, 1, 6, 1, 3, 1, 16]\n",
            "[None, None, 2, 3, 4, 5, 6, 7, 0, 1, 2, 3, 4, 5, 6, 7, 0, 1, 2, 3, 4, 5, 6, 7, 0, 1, 2, 3, 4, 5, 6, 7, 0, 1, 2, 3, 4, 5, 6, 7, 0, 1, 2, 3, 4, 5, 6, 7, 0, 1, 2, 3, 4, 5, 6, 7, 0, 1, 2, 3, 4, 5, 6, 7, 0, 1, 2, 3, 4, 5, 6, 7, 0, 1, 2, 3, 4, 5, 6, 7, 0, 1, 2, 3, 4, 5, 6, 7, 0, 1, 2, 3, 4, 5, 6, 7, 0, 1, 2, 3, 4, 5, 6, 7, 0, 1, 2, 3, 4, 5, 6, 7, 0, 1, 2, 3, 4, 5, 6, 7, 0, 1, 2, 3, 4, 5, 6, 7, 0, 1, 2, 3, 4, 5, 6, 7, 0, 1, 2, 3, 4, 5, 6, 7, 0, 1, 2, 3, 4, 5, 6, 7, 0, 1, 2, 3, 4, 5, 6, 7, 0, 1, 2, 3, 4, 5, 6, 7, 0, 1, 2, 3, 4, 5, 6, 7, 0, 1, 2, 3, 4, 5, 6, 7, 0, 1, 2, 3, 4, 5, 6, 7, 0, 1, 2, 3, 4, 5, 6, 7, 0, 1, 2, 3, 4, 5, 6, 7, 0, 1, 2, 3, 4, 5, 6, 7, 0, 1, 2, 3, 4, 5, 6, 7, 0, 1, 2, 3, 4, 5, 6, 7, 0, 1, 2, 3, 4, 5, 6, 7, 0, 1, 2, 3, 4, 5, 6, 7, 0, 1, 2, 3, 4, 5, 6, 7, 0, 1, 2, 3, 4, 5, 6, 7, 0, 1, 2, 3, 4, 5, 6, 7, 0, 1, 2, 3, 4, 5, 6, 7, 0, 1, 2, 3, 4, 5, 6, 7, 0, 1, 2, 3, 4, 5, 6, 7, 0, 1, 2, 3, 4, 5, 6, 7, 0, 1, 2, 3, 4, 5, 6, 7, 0, 1, 2, 3, 4, 5, 6, 7, 0, 1, 2, 3, 4, 5, 6, 7, 0, 1, 2, 3, 4, 5, 6, 7, 0, 1, 2, 3, 4, 5, 6, 7, 0, 1, 2, 3, 4, 5, 6, 7, 0, 1, 2, 3, 4, 5, 6, 7, 0, 1, 2, 3, 4, 5, 6, 7, 0, 1, 2, 3, 4, 5, 6, 7, 0, 1, 2, 3, 4, 5, 6, 7, 0, 1, 2, 3, 4, 5, 6, 7, 0, 1, 2, 3, 4, 5, 6, 7, 0, 1, 2, 3, 4, 5, 6, 7, 0, 1, 2, 3, 4, 5, 6, 7, 0, 1, 2, 3, 4, 5, 6, 7, 0, 1, 2, 3, 4, 5, 6, 7, 0, 1, 2, 3, 4, 5, 6, 7, 0, 1, 2, 3, 4, 5, 6, 7, 0, 1, 2, 3, 4, 5, 6, 7, 0, 1, 2, 3, 4, 5, 6, 7, 0, 1, 2, 3, 4, 5, 6, 7, 0, 1, 2, 3, 4, 5, 6, 7, 0, 1, 2, 3, 4, 5, 6, 7, 0, 1, 2, 3, 4, 5, 6, 7, 0, 1, 2, 3, 4, 5, 6, 7, 0, 1, 2, 3, 4, 5, 6, 7, 0, 1, 2, 3, 4, 5, 6, 7, 0, 1, 2, 3, 4, 5, 6, 7, 0, 1, 2, 3, 4, 5, 6, 7, 0, 1, 2, 3, 4, 5, 6, 7, 0, 1, 2, 3, 4, 5, 6, 7, 0, 1, 2, 3, 4, 5, 6, 7, 0, 1, 2, 3, 4, 5, 6, 7, 0, 1, 2, 3, 4, 5, 6, 7, 0, 1, 2, 3, 4, 5, 6, 7, 0, 1, 2, 3, 4, 5, 6, 7, 0, 1, 2, 3, 4, 5, 6, 7, 0, 1, 2, 3, 4, 5, 6, 7, 0, 1, 2, 3, 4, 5, 6, 7, 0, 1, 2, 3, 4, 5, 6, 7, 0, 1, 2, 3, 4, 5, 6, 7, 0, 1, 2, 3, 4, 5, 6, 7, 0, 1, 2, 3, 4, 5, 6, 7, 0, 1, 2, 3, 4, 5, 6, 7, 0, 1, 2, 3, 4, 5, 6, 7, 0, 1, 2, 3, 4, 5, 6, 7, 0, 1, 2, 3, 4, 5, 6, 7, 0, 1, 2, 3, 4, 5, 6, 7, 0, 1, 2, 3, 4, 5, 6, 7, 0, 1, 2, 3, 4, 5, 6, 7, 0, 1, 2, 3, 4, 5, 6, 7, 0, 1, 2, 3, 4, 5, 6, 7, 0, 1, 2, 3, 4, 5, 6, 7, 0, 1, 2, 3, 4, 5, 6, 7, 0, 1, 2, 3, 4, 5, 6, 7, 0, 1, 2, 3, 4, 5, 6, 7, 0, 1, 2, 3, 4, 5, 6, 7, 0, 1, 2, 3, 4, 5, 6, 7, 0, 1, 2, 3, 4, 5, 6, 7, 0, 1, 2, 3, 4, 5, 6, 7, 0, 1, 2, 3, 4, 5, 6, 7, 0, 1, 2, 3, 4, 5, 6, 7, 0, 1, 2, 3, 4, 5, 6, 7, 0, 1, 2, 3, 4, 5, 6, 7, 0, 1, 2, 3, 4, 5, 6, 7, 0, 1, 2, 3, 4, 5, 6, 7, 0, 1, 2, 3, 4, 5, 6, 7, 0, 1, 2, 3, 4, 5, 6, 7, 0, 1, 2, 3, 4, 5, 6, 7, 0, 1, 2, 3, 4, 5, 6, 7, 0, 1, 2, 3, 4, 5, 6, 7, 0, 1, 2, 3, 4, 5, 6, 7, 0, 1, 2, 3, 4, 5, 6, 7, 0, 1, 2, 3, 4, 5, 6, 7, 0, 1, 2, 3, 4, 5, 6, 7, 0, 1, 2, 3, 4, 5, 6, 7, 0, 1, 2, 3, 4, 5, 6, 7, 0, 1, 2, 3, 4, 5, 6, 7, 0, 1, 2, 3, 4, 5, 6, 7, 0, 1, 2, 3, 4, 5, 6, 7, 0, 1, 2, 3, 4, 5, 6, 7, 0, 1, 2, 3, 4, 5, 6, 7, 0, 1, 2, 3, 4, 5, 6, 7, 0, 1, 2, 3, 4, 5, 6, 7, 0, 1, 2, 3, 4, 5, 6, 7, 0, 1, 2, 3, 4, 5, 6, 7, 0, 1, 2, 3, 4, 5, 6, 7]\n",
            "[None, None, 2, 3, 4, 5, 6, 7, 8, 9, 10, 11, 12, 13, 14, 15, 0, 1, 2, 3, 4, 5, 6, 7, 8, 9, 10, 11, 12, 13, 14, 15, 0, 1, 2, 3, 4, 5, 6, 7, 8, 9, 10, 11, 12, 13, 14, 15, 0, 1, 2, 3, 4, 5, 6, 7, 8, 9, 10, 11, 12, 13, 14, 15, 0, 1, 2, 3, 4, 5, 6, 7, 8, 9, 10, 11, 12, 13, 14, 15, 0, 1, 2, 3, 4, 5, 6, 7, 8, 9, 10, 11, 12, 13, 14, 15, 0, 1, 2, 3, 4, 5, 6, 7, 8, 9, 10, 11, 12, 13, 14, 15, 0, 1, 2, 3, 4, 5, 6, 7, 8, 9, 10, 11, 12, 13, 14, 15, 0, 1, 2, 3, 4, 5, 6, 7, 8, 9, 10, 11, 12, 13, 14, 15, 0, 1, 2, 3, 4, 5, 6, 7, 8, 9, 10, 11, 12, 13, 14, 15, 0, 1, 2, 3, 4, 5, 6, 7, 8, 9, 10, 11, 12, 13, 14, 15, 0, 1, 2, 3, 4, 5, 6, 7, 8, 9, 10, 11, 12, 13, 14, 15, 0, 1, 2, 3, 4, 5, 6, 7, 8, 9, 10, 11, 12, 13, 14, 15, 0, 1, 2, 3, 4, 5, 6, 7, 8, 9, 10, 11, 12, 13, 14, 15, 0, 1, 2, 3, 4, 5, 6, 7, 8, 9, 10, 11, 12, 13, 14, 15, 0, 1, 2, 3, 4, 5, 6, 7, 8, 9, 10, 11, 12, 13, 14, 15, 0, 1, 2, 3, 4, 5, 6, 7, 8, 9, 10, 11, 12, 13, 14, 15, 0, 1, 2, 3, 4, 5, 6, 7, 8, 9, 10, 11, 12, 13, 14, 15, 0, 1, 2, 3, 4, 5, 6, 7, 8, 9, 10, 11, 12, 13, 14, 15, 0, 1, 2, 3, 4, 5, 6, 7, 8, 9, 10, 11, 12, 13, 14, 15, 0, 1, 2, 3, 4, 5, 6, 7, 8, 9, 10, 11, 12, 13, 14, 15, 0, 1, 2, 3, 4, 5, 6, 7, 8, 9, 10, 11, 12, 13, 14, 15, 0, 1, 2, 3, 4, 5, 6, 7, 8, 9, 10, 11, 12, 13, 14, 15, 0, 1, 2, 3, 4, 5, 6, 7, 8, 9, 10, 11, 12, 13, 14, 15, 0, 1, 2, 3, 4, 5, 6, 7, 8, 9, 10, 11, 12, 13, 14, 15, 0, 1, 2, 3, 4, 5, 6, 7, 8, 9, 10, 11, 12, 13, 14, 15, 0, 1, 2, 3, 4, 5, 6, 7, 8, 9, 10, 11, 12, 13, 14, 15, 0, 1, 2, 3, 4, 5, 6, 7, 8, 9, 10, 11, 12, 13, 14, 15, 0, 1, 2, 3, 4, 5, 6, 7, 8, 9, 10, 11, 12, 13, 14, 15, 0, 1, 2, 3, 4, 5, 6, 7, 8, 9, 10, 11, 12, 13, 14, 15, 0, 1, 2, 3, 4, 5, 6, 7, 8, 9, 10, 11, 12, 13, 14, 15, 0, 1, 2, 3, 4, 5, 6, 7, 8, 9, 10, 11, 12, 13, 14, 15, 0, 1, 2, 3, 4, 5, 6, 7, 8, 9, 10, 11, 12, 13, 14, 15, 0, 1, 2, 3, 4, 5, 6, 7, 8, 9, 10, 11, 12, 13, 14, 15, 0, 1, 2, 3, 4, 5, 6, 7, 8, 9, 10, 11, 12, 13, 14, 15, 0, 1, 2, 3, 4, 5, 6, 7, 8, 9, 10, 11, 12, 13, 14, 15, 0, 1, 2, 3, 4, 5, 6, 7, 8, 9, 10, 11, 12, 13, 14, 15, 0, 1, 2, 3, 4, 5, 6, 7, 8, 9, 10, 11, 12, 13, 14, 15, 0, 1, 2, 3, 4, 5, 6, 7, 8, 9, 10, 11, 12, 13, 14, 15, 0, 1, 2, 3, 4, 5, 6, 7, 8, 9, 10, 11, 12, 13, 14, 15, 0, 1, 2, 3, 4, 5, 6, 7, 8, 9, 10, 11, 12, 13, 14, 15, 0, 1, 2, 3, 4, 5, 6, 7, 8, 9, 10, 11, 12, 13, 14, 15, 0, 1, 2, 3, 4, 5, 6, 7, 8, 9, 10, 11, 12, 13, 14, 15, 0, 1, 2, 3, 4, 5, 6, 7, 8, 9, 10, 11, 12, 13, 14, 15, 0, 1, 2, 3, 4, 5, 6, 7, 8, 9, 10, 11, 12, 13, 14, 15, 0, 1, 2, 3, 4, 5, 6, 7, 8, 9, 10, 11, 12, 13, 14, 15, 0, 1, 2, 3, 4, 5, 6, 7, 8, 9, 10, 11, 12, 13, 14, 15, 0, 1, 2, 3, 4, 5, 6, 7, 8, 9, 10, 11, 12, 13, 14, 15, 0, 1, 2, 3, 4, 5, 6, 7, 8, 9, 10, 11, 12, 13, 14, 15, 0, 1, 2, 3, 4, 5, 6, 7, 8, 9, 10, 11, 12, 13, 14, 15, 0, 1, 2, 3, 4, 5, 6, 7, 8, 9, 10, 11, 12, 13, 14, 15, 0, 1, 2, 3, 4, 5, 6, 7, 8, 9, 10, 11, 12, 13, 14, 15, 0, 1, 2, 3, 4, 5, 6, 7, 8, 9, 10, 11, 12, 13, 14, 15, 0, 1, 2, 3, 4, 5, 6, 7, 8, 9, 10, 11, 12, 13, 14, 15, 0, 1, 2, 3, 4, 5, 6, 7, 8, 9, 10, 11, 12, 13, 14, 15, 0, 1, 2, 3, 4, 5, 6, 7, 8, 9, 10, 11, 12, 13, 14, 15, 0, 1, 2, 3, 4, 5, 6, 7, 8, 9, 10, 11, 12, 13, 14, 15, 0, 1, 2, 3, 4, 5, 6, 7, 8, 9, 10, 11, 12, 13, 14, 15, 0, 1, 2, 3, 4, 5, 6, 7, 8, 9, 10, 11, 12, 13, 14, 15, 0, 1, 2, 3, 4, 5, 6, 7, 8, 9, 10, 11, 12, 13, 14, 15, 0, 1, 2, 3, 4, 5, 6, 7, 8, 9, 10, 11, 12, 13, 14, 15, 0, 1, 2, 3, 4, 5, 6, 7, 8, 9, 10, 11, 12, 13, 14, 15, 0, 1, 2, 3, 4, 5, 6, 7]\n"
          ]
        }
      ]
    },
    {
      "cell_type": "markdown",
      "source": [
        "## Plotting for sigma(n)."
      ],
      "metadata": {
        "id": "_7trShgebn-2"
      }
    },
    {
      "cell_type": "code",
      "source": [
        "def plot(n):\n",
        "  y = n\n",
        "  x = [i for i in range(0,len(n))]\n",
        "  plt.plot(x,y)\n",
        "  plt.xlabel('Index')\n",
        "  plt.ylabel('Sequence Value')\n",
        "  plt.grid(True)\n",
        "  plt.show()"
      ],
      "metadata": {
        "id": "rvKvOt7rbwRV"
      },
      "execution_count": null,
      "outputs": []
    },
    {
      "cell_type": "code",
      "source": [
        "plot(dropTimes)"
      ],
      "metadata": {
        "colab": {
          "base_uri": "https://localhost:8080/",
          "height": 279
        },
        "id": "uSEImUyScwrd",
        "outputId": "30b46f01-656b-4adb-fb43-20fc71ce5c09"
      },
      "execution_count": null,
      "outputs": [
        {
          "output_type": "display_data",
          "data": {
            "image/png": "[encoded data removed]",
            "text/plain": [
              "<Figure size 432x288 with 1 Axes>"
            ]
          },
          "metadata": {
            "needs_background": "light"
          }
        }
      ]
    },
    {
      "cell_type": "markdown",
      "source": [
        "## Change of Rules\n",
        "In these next five blocks of code, we explore a rule change for even and odd numbers. Instead of Collatz's multiply by 3 and add 1 to odd numbers, we first change it to multiply by 3 and add 3. Second, we change odd numbers to just subtract 1. Third, we change the rule to multiply even numbers by 2 and divide by 3. Fourth, multiply even numbers by -1 and divide by 2. Lastly, we change the rule to multiply odd numbers by 4 and subtract 2 followed by multiply odd numbers by 2 and add 5."
      ],
      "metadata": {
        "id": "yjH4DCD0T8XN"
      }
    },
    {
      "cell_type": "code",
      "source": [
        "# \"change of rule\" from 3n+1 to 3n+3\n",
        "def conjecture3(n):\n",
        "  print(n)\n",
        "  while n != 1:\n",
        "    if n % 2 == 0:\n",
        "      n = n // 2\n",
        "    else:\n",
        "      n = 3*n + 3 #changed 3n+1 to 3n+3\n",
        "  print(n)"
      ],
      "metadata": {
        "id": "qEwqSKE1fmRV"
      },
      "execution_count": null,
      "outputs": []
    },
    {
      "cell_type": "code",
      "source": [
        "#Same function as \"conjecure\" except with rule change of n - 1 for odd values\n",
        "def ruleChangeCon(n):\n",
        "  prev = [] ## creating an empty list to store every step of the sequence\n",
        "  prev.append(n) ## putting original value in list \n",
        "  while n > 1: ## creating a while loop that runs the conjecture, and stops when it reaches n = 1.\n",
        "    if n % 2 == 0: ## checking if n is even\n",
        "      n = n // 2 ## if n is even, divide n by 2 and rounds up the decimals\n",
        "    else: ## if n is not even, then it must be odd\n",
        "      n = 3*n - 1 ## if n is odd, multiply n by 3 and minus 1\n",
        "    prev.append(n) ## Adding next step to the list\n",
        "    print(n)\n",
        "  return prev ## Once while loops is done, return sequence as a list\n",
        "\n",
        "#ruleChangeCon(10) goes 20,10,5,14,7 repeating"
      ],
      "metadata": {
        "id": "CRMKR7Y9edor"
      },
      "execution_count": null,
      "outputs": []
    },
    {
      "cell_type": "code",
      "source": [
        "#Same function as \"collatz\" except with rule change of 2*n//3 for even numbers \n",
        "def ruleChangeCollatz(n):\n",
        "  prev = [] ## creating an empty list to store every step of the sequence\n",
        "  prev.append(n) ## putting original value in list \n",
        "  while abs(n) > 1: #creating a while loop that runs the conjecture, and stops when it reaches n = 1\n",
        "    print(n,end=',') #got from https://www.pythonpool.com/collatz-sequence-python/\n",
        "    if n%2==0: #if n is even, divide by 2*n//3\n",
        "      n = 2*n//(3)\n",
        "    else:  #if n is odd, replace with 3n+1\n",
        "      n = 3*n+1\n",
        "  return n## if n is odd, multiply n by 3 and minus 1\n",
        "  prev.append(n) ## Adding next step to the list\n",
        "  print(n)\n",
        "  return prev\n",
        "\n",
        "ruleChangeCollatz(15) #this series ends with 4,2,1 also! 2*n//3 gives same series as n//2 "
      ],
      "metadata": {
        "colab": {
          "base_uri": "https://localhost:8080/"
        },
        "id": "aHkDOwDht2VM",
        "outputId": "3a4e866b-27e9-41bf-b99d-aeaa58bb191d"
      },
      "execution_count": null,
      "outputs": [
        {
          "output_type": "stream",
          "name": "stdout",
          "text": [
            "15,46,30,20,13,40,26,17,52,34,22,14,9,28,18,12,8,5,16,10,6,4,2,"
          ]
        },
        {
          "output_type": "execute_result",
          "data": {
            "text/plain": [
              "1"
            ]
          },
          "metadata": {},
          "execution_count": 16
        }
      ]
    },
    {
      "cell_type": "code",
      "source": [
        "#Same function as \"collatz\" except with rule change of -n//2 for even numbers \n",
        "def ruleChangeCollatz2(n):\n",
        "  prev = [] ## creating an empty list to store every step of the sequence\n",
        "  prev.append(n) ## putting original value in list \n",
        "  while abs(n) > 1: #creating a while loop that runs the conjecture, and stops when it reaches n = 1\n",
        "    print(n,end=',') #got from https://www.pythonpool.com/collatz-sequence-python/\n",
        "    if n%2==0: #if n is even, divide by -n//2\n",
        "      n = -n//2\n",
        "    else:  #if n is odd, replace with 3n+1\n",
        "      n = 3*n+1\n",
        "  return n## if n is odd, multiply n by 3 and minus 1\n",
        "  prev.append(n) ## Adding next step to the list\n",
        "  print(n)\n",
        "  return prev\n",
        "\n",
        "ruleChangeCollatz2(15) #series goes into the negative, but still ends. with 4,2,1 but just negative"
      ],
      "metadata": {
        "colab": {
          "base_uri": "https://localhost:8080/"
        },
        "id": "Poe7K3oBwVwx",
        "outputId": "0a7b7905-62ad-4d0a-a5de-1d9b4d80cd8f"
      },
      "execution_count": null,
      "outputs": [
        {
          "output_type": "stream",
          "name": "stdout",
          "text": [
            "15,46,-23,-68,34,-17,-50,25,76,-38,19,58,-29,-86,43,130,-65,-194,97,292,-146,73,220,-110,55,166,-83,-248,124,-62,31,94,-47,-140,70,-35,-104,52,-26,13,40,-20,10,-5,-14,7,22,-11,-32,16,-8,4,-2,"
          ]
        },
        {
          "output_type": "execute_result",
          "data": {
            "text/plain": [
              "1"
            ]
          },
          "metadata": {},
          "execution_count": 22
        }
      ]
    },
    {
      "cell_type": "code",
      "source": [
        "#Same function as \"collatz\" except with rule change of 4*n-2 and 2*n+5 for odd numbers \n",
        "def ruleChangeCollatz3(n):\n",
        "  prev = [] ## creating an empty list to store every step of the sequence\n",
        "  prev.append(n) ## putting original value in list \n",
        "  while abs(n) > 1: #creating a while loop that runs the conjecture, and stops when it reaches n = 1\n",
        "    print(n,end=',') #got from https://www.pythonpool.com/collatz-sequence-python/\n",
        "    if n%2==0: #if n is even, divide n by 2\n",
        "      n = n//2\n",
        "    else:  #if n is odd, replace with 4n-2, 2n+5\n",
        "      n = 2*n+5\n",
        "  return n## if n is odd, multiply n by 3 and minus 1\n",
        "  prev.append(n) ## Adding next step to the list\n",
        "  print(n)\n",
        "  return prev\n",
        "\n",
        "#ruleChangeCollatz3(5) the series goes on forever when you replace 3n+1 to 2n+5 (too long to see pattern)\n",
        "#ruleChangeCollatz3(5) the series goes on forever when you replace 3n+1 to 4n-2 (too long to see pattern)"
      ],
      "metadata": {
        "id": "_HnpUCtpwxTy"
      },
      "execution_count": null,
      "outputs": []
    },
    {
      "cell_type": "code",
      "source": [
        "prev_vals=[]\n",
        "a=['starting value']\n",
        "def conjecture(n):\n",
        "  print(n)\n",
        "  while (n > 1) and (n not in prev_vals): #creating list of previous values to stop the infinite loop or prev_vals.count(n)\n",
        "    prev_vals.append(n)\n",
        "    return n\n",
        "    if n % 2 == 0:\n",
        "      n = n // 2\n",
        "    else:\n",
        "      n = 3*n - 1\n",
        "    print(n)\n",
        "\n",
        "conjecture(20)"
      ],
      "metadata": {
        "id": "zUZVwVHI_x8y",
        "colab": {
          "base_uri": "https://localhost:8080/"
        },
        "outputId": "6d06f100-c25a-4906-fa2a-1e96e5291d6b"
      },
      "execution_count": null,
      "outputs": [
        {
          "output_type": "stream",
          "name": "stdout",
          "text": [
            "20\n"
          ]
        },
        {
          "output_type": "execute_result",
          "data": {
            "text/plain": [
              "20"
            ]
          },
          "metadata": {},
          "execution_count": 1
        }
      ]
    },
    {
      "cell_type": "code",
      "source": [
        ""
      ],
      "metadata": {
        "id": "RK5eNOeEtT26"
      },
      "execution_count": null,
      "outputs": []
    },
    {
      "cell_type": "code",
      "source": [
        "#negative even numbers vs positive event number"
      ],
      "metadata": {
        "id": "oRq819ZvBXrQ"
      },
      "execution_count": null,
      "outputs": []
    },
    {
      "cell_type": "markdown",
      "source": [
        "##Our Findings\n",
        "After experimenting with the Collatz Conjecture by changing the rules, looking at how it acts with negative integers and analyzing the drop times, we found many interesting things. When we were changing the rules of the conjecture we observed that when changing the rules for when n is even, the series still ended up with a 4,2,1 loop. However when we changed the rules when n was odd, the series took on a whole new identity. When inputing negative numbers into the conjecture it created a loop of -20,-10,-5,-14,-7,-10,-5,-14,-7. Lastly, for the drop time we observed that there are repeating drop times patterns where it follows: 1,3,1,a, 1,3,1,b, 1,3,1,c, 1,3,... while a, b, c...are a random number.\n"
      ],
      "metadata": {
        "id": "OcgOSONetDsq"
      }
    },
    {
      "cell_type": "markdown",
      "source": [
        "## Current Research on the Collatz Conjecture\n",
        "Although the Collatz Conjecture is nowhere near proved, UCLA mathematician Terence Tao received the Fields Medal in 2006 for making the most progress on this proof. The Fields Medal is the highest honor, and he is regarded as one of the top mathematicians of his generation. Funnily enough, what gave him this genius idea was an anonymous comment on his blog that stated as long as he could prove it worked for *almost* all numbers, not all, it would be sufficient. That idea lead Tao to realize he could apply techniques used to study partial differential equations to the Collatz Conjecture. The technique: using large samples of numbers and applying the conjecture. If almost 100% of the sample behaved the same way (going to 1), then it would be enough to conclude that it worked for the whole sample. However, each sample had to be weighted the same - and by weights, that means that the numbers in the sample share a property. Tao's first sample excluded multiples of 3 because the conjecture quickly went through multiples of 3. He then moved on to include samples 3 modulo 1 and then 3 modulo 2. The goal of using weighted samples was to ensure that most of the numbers maintained the same character as they were cycled through the conjecture. With this technique he was able to prove that 99% of all starting values greater than 4 quardrillion end up in a number smaller than 200. Although this conclusion is still a speck in the exploration of the Collatz Conjecture, is the closest conclusion reached in history."
      ],
      "metadata": {
        "id": "hzc9n5FNDpHM"
      }
    },
    {
      "cell_type": "markdown",
      "source": [
        "## Bibliography\n",
        "\n",
        "1.  O'Connor, J.J.; Robertson, E.F. (2006). \"Lothar Collatz\". St Andrews University School of Mathematics and Statistics, Scotland.\n",
        "2. \"Understanding Collatz Sequence in Python.\" *Python Pool,* https://www.pythonpool.com/collatz-sequence-python/. Accessed 4 Feb. 2022.\n",
        "3. “Mathematician Proves Huge Result on 'Dangerous' Problem.” Engineering Inspiration, https://ucl.engins.org/external/mathematician-proves-huge-result-on-dangerous-problem/. "
      ],
      "metadata": {
        "id": "gKin6oOX0hwK"
      }
    }
  ]
}